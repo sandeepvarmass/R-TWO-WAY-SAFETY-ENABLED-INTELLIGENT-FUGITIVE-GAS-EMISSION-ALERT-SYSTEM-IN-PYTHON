{
 "cells": [
  {
   "cell_type": "markdown",
   "metadata": {},
   "source": [
    "# age prediction:"
   ]
  },
  {
   "cell_type": "code",
   "execution_count": 1,
   "metadata": {},
   "outputs": [],
   "source": [
    "from tensorflow.keras.callbacks import ModelCheckpoint, ReduceLROnPlateau, EarlyStopping"
   ]
  },
  {
   "cell_type": "code",
   "execution_count": 2,
   "metadata": {},
   "outputs": [],
   "source": [
    "from tensorflow.keras.models import Sequential"
   ]
  },
  {
   "cell_type": "code",
   "execution_count": 3,
   "metadata": {},
   "outputs": [],
   "source": [
    "from tensorflow.keras.layers import Convolution2D"
   ]
  },
  {
   "cell_type": "code",
   "execution_count": 4,
   "metadata": {},
   "outputs": [],
   "source": [
    "from tensorflow.keras.layers import MaxPooling2D"
   ]
  },
  {
   "cell_type": "code",
   "execution_count": 5,
   "metadata": {},
   "outputs": [],
   "source": [
    "from tensorflow.keras.layers import Flatten"
   ]
  },
  {
   "cell_type": "code",
   "execution_count": 6,
   "metadata": {},
   "outputs": [],
   "source": [
    "from tensorflow.keras.layers import Dense"
   ]
  },
  {
   "cell_type": "code",
   "execution_count": 7,
   "metadata": {},
   "outputs": [],
   "source": [
    "import warnings\n",
    "warnings.filterwarnings('ignore')"
   ]
  },
  {
   "cell_type": "code",
   "execution_count": 8,
   "metadata": {},
   "outputs": [],
   "source": [
    "Classifier=Sequential()"
   ]
  },
  {
   "cell_type": "code",
   "execution_count": 9,
   "metadata": {},
   "outputs": [
    {
     "name": "stdout",
     "output_type": "stream",
     "text": [
      "Model: \"sequential\"\n",
      "_________________________________________________________________\n",
      "Layer (type)                 Output Shape              Param #   \n",
      "=================================================================\n",
      "conv2d (Conv2D)              (None, 66, 66, 32)        896       \n",
      "_________________________________________________________________\n",
      "max_pooling2d (MaxPooling2D) (None, 33, 33, 32)        0         \n",
      "_________________________________________________________________\n",
      "conv2d_1 (Conv2D)            (None, 11, 11, 128)       36992     \n",
      "_________________________________________________________________\n",
      "max_pooling2d_1 (MaxPooling2 (None, 5, 5, 128)         0         \n",
      "_________________________________________________________________\n",
      "flatten (Flatten)            (None, 3200)              0         \n",
      "_________________________________________________________________\n",
      "dense (Dense)                (None, 256)               819456    \n",
      "_________________________________________________________________\n",
      "dense_1 (Dense)              (None, 4)                 1028      \n",
      "=================================================================\n",
      "Total params: 858,372\n",
      "Trainable params: 858,372\n",
      "Non-trainable params: 0\n",
      "_________________________________________________________________\n"
     ]
    }
   ],
   "source": [
    "Classifier.add(Convolution2D(32,3,3,input_shape=(200,200,3),activation='relu'))\n",
    "Classifier.add(MaxPooling2D(pool_size=(2,2)))\n",
    "Classifier.add(Convolution2D(128,3,3,activation='relu'))\n",
    "Classifier.add(MaxPooling2D(pool_size=(2,2)))\n",
    "Classifier.add(Flatten())\n",
    "Classifier.add(Dense(256, activation='relu'))\n",
    "Classifier.add(Dense(4, activation='softmax'))\n",
    "\n",
    "Classifier.compile(optimizer='rmsprop',loss='categorical_crossentropy',metrics=['accuracy'])\n",
    "Classifier.summary()"
   ]
  },
  {
   "cell_type": "code",
   "execution_count": 10,
   "metadata": {},
   "outputs": [],
   "source": [
    "from tensorflow.keras.preprocessing.image import ImageDataGenerator"
   ]
  },
  {
   "cell_type": "code",
   "execution_count": 11,
   "metadata": {},
   "outputs": [],
   "source": [
    "train_datagen=ImageDataGenerator(rescale=1./128,shear_range=0.2,zoom_range=0.2,horizontal_flip=True)"
   ]
  },
  {
   "cell_type": "code",
   "execution_count": 12,
   "metadata": {},
   "outputs": [],
   "source": [
    "test_datagen=ImageDataGenerator(rescale=1./128)"
   ]
  },
  {
   "cell_type": "code",
   "execution_count": 13,
   "metadata": {},
   "outputs": [
    {
     "name": "stdout",
     "output_type": "stream",
     "text": [
      "Found 2300 images belonging to 4 classes.\n"
     ]
    }
   ],
   "source": [
    "training_set=train_datagen.flow_from_directory('Dataset/train',target_size=(200,200),batch_size=32,class_mode='categorical')"
   ]
  },
  {
   "cell_type": "code",
   "execution_count": 14,
   "metadata": {},
   "outputs": [
    {
     "name": "stdout",
     "output_type": "stream",
     "text": [
      "Found 427 images belonging to 4 classes.\n"
     ]
    }
   ],
   "source": [
    "test_set=test_datagen.flow_from_directory('Dataset/test',target_size=(200,200),batch_size=32,class_mode='categorical')"
   ]
  },
  {
   "cell_type": "code",
   "execution_count": 15,
   "metadata": {},
   "outputs": [],
   "source": [
    "from IPython.display import display"
   ]
  },
  {
   "cell_type": "code",
   "execution_count": 18,
   "metadata": {},
   "outputs": [],
   "source": [
    "img_dims = 150\n",
    "epochs = 100\n",
    "batch_size = 32"
   ]
  },
  {
   "cell_type": "code",
   "execution_count": 19,
   "metadata": {},
   "outputs": [
    {
     "name": "stdout",
     "output_type": "stream",
     "text": [
      "Epoch 1/100\n",
      "71/71 [==============================] - 22s 308ms/step - loss: 1.3505 - accuracy: 0.3446 - val_loss: 1.2336 - val_accuracy: 0.4952\n",
      "Epoch 2/100\n",
      "71/71 [==============================] - 22s 304ms/step - loss: 1.2215 - accuracy: 0.4462 - val_loss: 1.0698 - val_accuracy: 0.5865\n",
      "Epoch 3/100\n",
      "71/71 [==============================] - 21s 291ms/step - loss: 1.1417 - accuracy: 0.4982 - val_loss: 1.1143 - val_accuracy: 0.4928\n",
      "Epoch 4/100\n",
      "71/71 [==============================] - 21s 293ms/step - loss: 1.0823 - accuracy: 0.5344 - val_loss: 0.9461 - val_accuracy: 0.6226\n",
      "Epoch 5/100\n",
      "71/71 [==============================] - 21s 295ms/step - loss: 1.0602 - accuracy: 0.5520 - val_loss: 0.9211 - val_accuracy: 0.6202\n",
      "Epoch 6/100\n",
      "71/71 [==============================] - 21s 293ms/step - loss: 1.0572 - accuracy: 0.5556 - val_loss: 1.0532 - val_accuracy: 0.5385\n",
      "Epoch 7/100\n",
      "71/71 [==============================] - 21s 303ms/step - loss: 0.9854 - accuracy: 0.5895 - val_loss: 0.8273 - val_accuracy: 0.6683\n",
      "Epoch 8/100\n",
      "71/71 [==============================] - 22s 306ms/step - loss: 0.9617 - accuracy: 0.5952 - val_loss: 0.7965 - val_accuracy: 0.7139\n",
      "Epoch 9/100\n",
      "71/71 [==============================] - 21s 297ms/step - loss: 0.9402 - accuracy: 0.5992 - val_loss: 0.7829 - val_accuracy: 0.7115\n",
      "Epoch 10/100\n",
      "71/71 [==============================] - 21s 294ms/step - loss: 0.9160 - accuracy: 0.6124 - val_loss: 0.8349 - val_accuracy: 0.6226\n",
      "Epoch 11/100\n",
      "71/71 [==============================] - 21s 301ms/step - loss: 0.8939 - accuracy: 0.6301 - val_loss: 0.7665 - val_accuracy: 0.7067\n",
      "Epoch 12/100\n",
      "71/71 [==============================] - 21s 299ms/step - loss: 0.8720 - accuracy: 0.6287 - val_loss: 0.7606 - val_accuracy: 0.6803\n",
      "Epoch 13/100\n",
      "71/71 [==============================] - 22s 304ms/step - loss: 0.8795 - accuracy: 0.6380 - val_loss: 0.7962 - val_accuracy: 0.6538\n",
      "Epoch 14/100\n",
      "71/71 [==============================] - 21s 296ms/step - loss: 0.8604 - accuracy: 0.6420 - val_loss: 0.7233 - val_accuracy: 0.7043\n",
      "Epoch 15/100\n",
      "71/71 [==============================] - 21s 300ms/step - loss: 0.8289 - accuracy: 0.6609 - val_loss: 0.6735 - val_accuracy: 0.7115\n",
      "Epoch 16/100\n",
      "71/71 [==============================] - 21s 294ms/step - loss: 0.8115 - accuracy: 0.6667 - val_loss: 0.6761 - val_accuracy: 0.7043\n",
      "Epoch 17/100\n",
      "71/71 [==============================] - 21s 295ms/step - loss: 0.7963 - accuracy: 0.6693 - val_loss: 0.7260 - val_accuracy: 0.6683\n",
      "Epoch 18/100\n",
      "71/71 [==============================] - 21s 301ms/step - loss: 0.7889 - accuracy: 0.6808 - val_loss: 0.6525 - val_accuracy: 0.7284\n",
      "Epoch 19/100\n",
      "71/71 [==============================] - 21s 297ms/step - loss: 0.7834 - accuracy: 0.6896 - val_loss: 0.6081 - val_accuracy: 0.7428\n",
      "Epoch 20/100\n",
      "71/71 [==============================] - 22s 307ms/step - loss: 0.7562 - accuracy: 0.6949 - val_loss: 0.5832 - val_accuracy: 0.7620\n",
      "Epoch 21/100\n",
      "71/71 [==============================] - 21s 300ms/step - loss: 0.7493 - accuracy: 0.7121 - val_loss: 0.6290 - val_accuracy: 0.7596\n",
      "Epoch 22/100\n",
      "71/71 [==============================] - 21s 296ms/step - loss: 0.7376 - accuracy: 0.7059 - val_loss: 0.7021 - val_accuracy: 0.7139\n",
      "Epoch 23/100\n",
      "71/71 [==============================] - 21s 303ms/step - loss: 0.7173 - accuracy: 0.7072 - val_loss: 0.6302 - val_accuracy: 0.7188\n",
      "Epoch 24/100\n",
      "71/71 [==============================] - 21s 302ms/step - loss: 0.6996 - accuracy: 0.7231 - val_loss: 0.6093 - val_accuracy: 0.7404\n",
      "Epoch 25/100\n",
      "71/71 [==============================] - 21s 302ms/step - loss: 0.6979 - accuracy: 0.7191 - val_loss: 0.6123 - val_accuracy: 0.7428\n",
      "Epoch 26/100\n",
      "71/71 [==============================] - 21s 301ms/step - loss: 0.6747 - accuracy: 0.7288 - val_loss: 0.5144 - val_accuracy: 0.8029\n",
      "Epoch 27/100\n",
      "71/71 [==============================] - 23s 326ms/step - loss: 0.6892 - accuracy: 0.7152 - val_loss: 0.5225 - val_accuracy: 0.7668\n",
      "Epoch 28/100\n",
      "71/71 [==============================] - 22s 306ms/step - loss: 0.6648 - accuracy: 0.7310 - val_loss: 0.5652 - val_accuracy: 0.7668\n",
      "Epoch 29/100\n",
      "71/71 [==============================] - 22s 308ms/step - loss: 0.6640 - accuracy: 0.7337 - val_loss: 0.5273 - val_accuracy: 0.7933\n",
      "Epoch 30/100\n",
      "71/71 [==============================] - 22s 310ms/step - loss: 0.6519 - accuracy: 0.7249 - val_loss: 0.5712 - val_accuracy: 0.7452\n",
      "Epoch 31/100\n",
      "71/71 [==============================] - 21s 301ms/step - loss: 0.6300 - accuracy: 0.7429 - val_loss: 0.5307 - val_accuracy: 0.7861\n",
      "Epoch 32/100\n",
      "71/71 [==============================] - 21s 301ms/step - loss: 0.6239 - accuracy: 0.7363 - val_loss: 0.5465 - val_accuracy: 0.7644\n",
      "Epoch 33/100\n",
      "71/71 [==============================] - 22s 306ms/step - loss: 0.6068 - accuracy: 0.7504 - val_loss: 0.4781 - val_accuracy: 0.7861\n",
      "Epoch 34/100\n",
      "71/71 [==============================] - 21s 300ms/step - loss: 0.6054 - accuracy: 0.7623 - val_loss: 0.4581 - val_accuracy: 0.8221\n",
      "Epoch 35/100\n",
      "71/71 [==============================] - 24s 333ms/step - loss: 0.6034 - accuracy: 0.7593 - val_loss: 0.5124 - val_accuracy: 0.7909\n",
      "Epoch 36/100\n",
      "71/71 [==============================] - 23s 322ms/step - loss: 0.5668 - accuracy: 0.7729 - val_loss: 0.4687 - val_accuracy: 0.7981\n",
      "Epoch 37/100\n",
      "71/71 [==============================] - 22s 311ms/step - loss: 0.5808 - accuracy: 0.7782 - val_loss: 0.4998 - val_accuracy: 0.7981\n",
      "Epoch 38/100\n",
      "71/71 [==============================] - 23s 329ms/step - loss: 0.5522 - accuracy: 0.7875 - val_loss: 0.5993 - val_accuracy: 0.7428\n",
      "Epoch 39/100\n",
      "71/71 [==============================] - 22s 314ms/step - loss: 0.5686 - accuracy: 0.7747 - val_loss: 0.5580 - val_accuracy: 0.7572\n",
      "Epoch 40/100\n",
      "71/71 [==============================] - 21s 302ms/step - loss: 0.5516 - accuracy: 0.7734 - val_loss: 0.4895 - val_accuracy: 0.8029\n",
      "Epoch 41/100\n",
      "71/71 [==============================] - 21s 299ms/step - loss: 0.5294 - accuracy: 0.7884 - val_loss: 0.6144 - val_accuracy: 0.7476\n",
      "Epoch 42/100\n",
      "71/71 [==============================] - 22s 307ms/step - loss: 0.5049 - accuracy: 0.8011 - val_loss: 0.4291 - val_accuracy: 0.8462\n",
      "Epoch 43/100\n",
      "71/71 [==============================] - 22s 312ms/step - loss: 0.5060 - accuracy: 0.7884 - val_loss: 0.4360 - val_accuracy: 0.8221\n",
      "Epoch 44/100\n",
      "71/71 [==============================] - 22s 307ms/step - loss: 0.4801 - accuracy: 0.8175 - val_loss: 0.4190 - val_accuracy: 0.8077\n",
      "Epoch 45/100\n",
      "71/71 [==============================] - 21s 297ms/step - loss: 0.4917 - accuracy: 0.8064 - val_loss: 0.4183 - val_accuracy: 0.8269\n",
      "Epoch 46/100\n",
      "71/71 [==============================] - 21s 301ms/step - loss: 0.4840 - accuracy: 0.8131 - val_loss: 0.4425 - val_accuracy: 0.8462\n",
      "Epoch 47/100\n",
      "71/71 [==============================] - 22s 305ms/step - loss: 0.4694 - accuracy: 0.8166 - val_loss: 0.4670 - val_accuracy: 0.8101\n",
      "Epoch 48/100\n",
      "71/71 [==============================] - 21s 299ms/step - loss: 0.4796 - accuracy: 0.8108 - val_loss: 0.3692 - val_accuracy: 0.8630\n",
      "Epoch 49/100\n",
      "71/71 [==============================] - 21s 293ms/step - loss: 0.4540 - accuracy: 0.8166 - val_loss: 0.3636 - val_accuracy: 0.8654\n",
      "Epoch 50/100\n",
      "71/71 [==============================] - 21s 299ms/step - loss: 0.4545 - accuracy: 0.8205 - val_loss: 0.3907 - val_accuracy: 0.8341\n",
      "Epoch 51/100\n",
      "71/71 [==============================] - 21s 297ms/step - loss: 0.4447 - accuracy: 0.8302 - val_loss: 0.4320 - val_accuracy: 0.8462\n",
      "Epoch 52/100\n",
      "71/71 [==============================] - 21s 301ms/step - loss: 0.4461 - accuracy: 0.8245 - val_loss: 0.3598 - val_accuracy: 0.8702\n",
      "Epoch 53/100\n",
      "71/71 [==============================] - 21s 300ms/step - loss: 0.4015 - accuracy: 0.8395 - val_loss: 0.3749 - val_accuracy: 0.8558\n",
      "Epoch 54/100\n",
      "71/71 [==============================] - 21s 298ms/step - loss: 0.4078 - accuracy: 0.8386 - val_loss: 0.6241 - val_accuracy: 0.7885\n",
      "Epoch 55/100\n",
      "71/71 [==============================] - 21s 296ms/step - loss: 0.3998 - accuracy: 0.8430 - val_loss: 0.3513 - val_accuracy: 0.8702\n",
      "Epoch 56/100\n",
      "71/71 [==============================] - 21s 300ms/step - loss: 0.3855 - accuracy: 0.8523 - val_loss: 0.4487 - val_accuracy: 0.8341\n",
      "Epoch 57/100\n"
     ]
    },
    {
     "name": "stdout",
     "output_type": "stream",
     "text": [
      "71/71 [==============================] - 21s 297ms/step - loss: 0.3912 - accuracy: 0.8532 - val_loss: 0.3724 - val_accuracy: 0.8726\n",
      "Epoch 58/100\n",
      "71/71 [==============================] - 21s 297ms/step - loss: 0.3660 - accuracy: 0.8571 - val_loss: 0.4352 - val_accuracy: 0.8149\n",
      "Epoch 59/100\n",
      "71/71 [==============================] - 21s 300ms/step - loss: 0.3853 - accuracy: 0.8523 - val_loss: 0.3500 - val_accuracy: 0.8870\n",
      "Epoch 60/100\n",
      "71/71 [==============================] - 21s 300ms/step - loss: 0.3710 - accuracy: 0.8576 - val_loss: 0.4295 - val_accuracy: 0.8413\n",
      "Epoch 61/100\n",
      "71/71 [==============================] - 22s 311ms/step - loss: 0.3605 - accuracy: 0.8611 - val_loss: 0.3774 - val_accuracy: 0.8894\n",
      "Epoch 62/100\n",
      "71/71 [==============================] - 22s 309ms/step - loss: 0.3763 - accuracy: 0.8567 - val_loss: 0.3478 - val_accuracy: 0.8726\n",
      "Epoch 63/100\n",
      "71/71 [==============================] - 22s 305ms/step - loss: 0.3612 - accuracy: 0.8563 - val_loss: 0.3386 - val_accuracy: 0.8870\n",
      "Epoch 64/100\n",
      "71/71 [==============================] - 22s 304ms/step - loss: 0.3356 - accuracy: 0.8757 - val_loss: 0.3609 - val_accuracy: 0.8918\n",
      "Epoch 65/100\n",
      "71/71 [==============================] - 21s 302ms/step - loss: 0.3190 - accuracy: 0.8668 - val_loss: 0.3457 - val_accuracy: 0.8774\n",
      "Epoch 66/100\n",
      "71/71 [==============================] - 21s 300ms/step - loss: 0.3308 - accuracy: 0.8757 - val_loss: 0.4182 - val_accuracy: 0.8486\n",
      "Epoch 67/100\n",
      "71/71 [==============================] - 22s 311ms/step - loss: 0.3208 - accuracy: 0.8792 - val_loss: 0.4353 - val_accuracy: 0.8558\n",
      "Epoch 68/100\n",
      "71/71 [==============================] - 22s 303ms/step - loss: 0.3110 - accuracy: 0.8823 - val_loss: 0.3461 - val_accuracy: 0.8870\n",
      "Epoch 69/100\n",
      "71/71 [==============================] - 22s 306ms/step - loss: 0.3047 - accuracy: 0.8827 - val_loss: 0.4450 - val_accuracy: 0.8317\n",
      "Epoch 70/100\n",
      "71/71 [==============================] - 22s 310ms/step - loss: 0.2946 - accuracy: 0.8915 - val_loss: 0.3505 - val_accuracy: 0.8990\n",
      "Epoch 71/100\n",
      "71/71 [==============================] - 22s 303ms/step - loss: 0.2994 - accuracy: 0.8884 - val_loss: 0.3035 - val_accuracy: 0.9062\n",
      "Epoch 72/100\n",
      "71/71 [==============================] - 21s 301ms/step - loss: 0.2996 - accuracy: 0.8907 - val_loss: 0.3536 - val_accuracy: 0.8822\n",
      "Epoch 73/100\n",
      "71/71 [==============================] - 22s 306ms/step - loss: 0.2744 - accuracy: 0.8959 - val_loss: 0.3111 - val_accuracy: 0.9135\n",
      "Epoch 74/100\n",
      "71/71 [==============================] - 23s 324ms/step - loss: 0.2967 - accuracy: 0.8867 - val_loss: 0.3538 - val_accuracy: 0.8822\n",
      "Epoch 75/100\n",
      "71/71 [==============================] - 22s 305ms/step - loss: 0.2732 - accuracy: 0.9021 - val_loss: 0.3328 - val_accuracy: 0.9111\n",
      "Epoch 76/100\n",
      "71/71 [==============================] - 22s 304ms/step - loss: 0.2787 - accuracy: 0.8942 - val_loss: 0.3093 - val_accuracy: 0.8942\n",
      "Epoch 77/100\n",
      "71/71 [==============================] - 23s 326ms/step - loss: 0.2637 - accuracy: 0.9030 - val_loss: 0.3424 - val_accuracy: 0.8822\n",
      "Epoch 78/100\n",
      "71/71 [==============================] - 25s 347ms/step - loss: 0.2587 - accuracy: 0.8968 - val_loss: 0.3378 - val_accuracy: 0.8966\n",
      "Epoch 79/100\n",
      "71/71 [==============================] - 22s 308ms/step - loss: 0.2746 - accuracy: 0.8968 - val_loss: 0.3864 - val_accuracy: 0.8750\n",
      "Epoch 80/100\n",
      "71/71 [==============================] - 21s 300ms/step - loss: 0.2471 - accuracy: 0.9118 - val_loss: 0.2861 - val_accuracy: 0.9135\n",
      "Epoch 81/100\n",
      "71/71 [==============================] - 22s 306ms/step - loss: 0.2491 - accuracy: 0.9114 - val_loss: 0.3443 - val_accuracy: 0.9087\n",
      "Epoch 82/100\n",
      "71/71 [==============================] - 22s 307ms/step - loss: 0.2425 - accuracy: 0.9114 - val_loss: 0.3357 - val_accuracy: 0.9014\n",
      "Epoch 83/100\n",
      "71/71 [==============================] - 21s 302ms/step - loss: 0.2226 - accuracy: 0.9180 - val_loss: 0.2825 - val_accuracy: 0.9279\n",
      "Epoch 84/100\n",
      "71/71 [==============================] - 23s 317ms/step - loss: 0.2394 - accuracy: 0.9114 - val_loss: 0.3635 - val_accuracy: 0.9014\n",
      "Epoch 85/100\n",
      "71/71 [==============================] - 21s 295ms/step - loss: 0.2416 - accuracy: 0.9105 - val_loss: 0.2732 - val_accuracy: 0.9135\n",
      "Epoch 86/100\n",
      "71/71 [==============================] - 21s 298ms/step - loss: 0.2254 - accuracy: 0.9149 - val_loss: 0.3131 - val_accuracy: 0.9207\n",
      "Epoch 87/100\n",
      "71/71 [==============================] - 21s 299ms/step - loss: 0.2107 - accuracy: 0.9228 - val_loss: 0.3236 - val_accuracy: 0.9135\n",
      "Epoch 88/100\n",
      "71/71 [==============================] - 21s 301ms/step - loss: 0.2143 - accuracy: 0.9162 - val_loss: 0.3183 - val_accuracy: 0.9159\n",
      "Epoch 89/100\n",
      "71/71 [==============================] - 21s 298ms/step - loss: 0.2248 - accuracy: 0.9242 - val_loss: 0.2725 - val_accuracy: 0.9303\n",
      "Epoch 90/100\n",
      "71/71 [==============================] - 21s 297ms/step - loss: 0.2438 - accuracy: 0.9101 - val_loss: 0.3388 - val_accuracy: 0.9231\n",
      "Epoch 91/100\n",
      "71/71 [==============================] - 21s 298ms/step - loss: 0.2032 - accuracy: 0.9237 - val_loss: 0.3554 - val_accuracy: 0.9135\n",
      "Epoch 92/100\n",
      "71/71 [==============================] - 22s 308ms/step - loss: 0.2207 - accuracy: 0.9189 - val_loss: 0.3064 - val_accuracy: 0.9303\n",
      "Epoch 93/100\n",
      "71/71 [==============================] - 22s 308ms/step - loss: 0.1927 - accuracy: 0.9361 - val_loss: 0.2834 - val_accuracy: 0.9351\n",
      "Epoch 94/100\n",
      "71/71 [==============================] - 22s 307ms/step - loss: 0.1919 - accuracy: 0.9299 - val_loss: 0.3185 - val_accuracy: 0.9111\n",
      "Epoch 95/100\n",
      "71/71 [==============================] - 21s 301ms/step - loss: 0.2030 - accuracy: 0.9211 - val_loss: 0.3093 - val_accuracy: 0.9447\n",
      "Epoch 96/100\n",
      "71/71 [==============================] - 22s 314ms/step - loss: 0.1922 - accuracy: 0.9303 - val_loss: 0.2526 - val_accuracy: 0.9399\n",
      "Epoch 97/100\n",
      "71/71 [==============================] - 22s 304ms/step - loss: 0.2001 - accuracy: 0.9268 - val_loss: 0.3951 - val_accuracy: 0.9207\n",
      "Epoch 98/100\n",
      "71/71 [==============================] - 22s 305ms/step - loss: 0.2030 - accuracy: 0.9286 - val_loss: 0.3450 - val_accuracy: 0.9062\n",
      "Epoch 99/100\n",
      "71/71 [==============================] - 22s 303ms/step - loss: 0.1959 - accuracy: 0.9299 - val_loss: 0.2940 - val_accuracy: 0.9255\n",
      "Epoch 100/100\n",
      "71/71 [==============================] - 22s 311ms/step - loss: 0.1807 - accuracy: 0.9317 - val_loss: 0.3579 - val_accuracy: 0.9255\n"
     ]
    }
   ],
   "source": [
    "history = Classifier.fit_generator( training_set, steps_per_epoch=training_set.samples // batch_size, \n",
    "           epochs=epochs, \n",
    "           validation_data=test_set,validation_steps=test_set.samples // batch_size)"
   ]
  },
  {
   "cell_type": "code",
   "execution_count": 68,
   "metadata": {},
   "outputs": [],
   "source": [
    "import matplotlib.pyplot as plt"
   ]
  },
  {
   "cell_type": "code",
   "execution_count": 69,
   "metadata": {},
   "outputs": [],
   "source": [
    "def graph():\n",
    "    #Plot training & validation accuracy values\n",
    "    plt.plot(history.history['accuracy'])\n",
    "    plt.plot(history.history['val_accuracy'])\n",
    "    plt.title('Model accuracy')\n",
    "    plt.ylabel('Accuracy')\n",
    "    plt.xlabel('Epoch')\n",
    "    plt.legend(['Train', 'Test'], loc='upper left')\n",
    "    plt.show()\n",
    "\n",
    "    # Plot training & validation loss values\n",
    "    plt.plot(history.history['loss'])\n",
    "    plt.plot(history.history['val_loss'])\n",
    "    plt.title('Model loss')\n",
    "    plt.ylabel('Loss')\n",
    "    plt.xlabel('Epoch')\n",
    "    plt.legend(['Train', 'Test'], loc='upper left')\n",
    "    plt.show()"
   ]
  },
  {
   "cell_type": "code",
   "execution_count": 70,
   "metadata": {},
   "outputs": [
    {
     "data": {
      "image/png": "[encoded data removed]",
      "text/plain": [
       "<Figure size 432x288 with 1 Axes>"
      ]
     },
     "metadata": {
      "needs_background": "light"
     },
     "output_type": "display_data"
    },
    {
     "data": {
      "image/png": "[encoded data removed]",
      "text/plain": [
       "<Figure size 432x288 with 1 Axes>"
      ]
     },
     "metadata": {
      "needs_background": "light"
     },
     "output_type": "display_data"
    }
   ],
   "source": [
    "graph()"
   ]
  },
  {
   "cell_type": "code",
   "execution_count": 23,
   "metadata": {},
   "outputs": [],
   "source": [
    "import h5py"
   ]
  },
  {
   "cell_type": "code",
   "execution_count": 24,
   "metadata": {},
   "outputs": [],
   "source": [
    "Classifier.save('age.h5')\n",
    "       "
   ]
  },
  {
   "cell_type": "code",
   "execution_count": 25,
   "metadata": {},
   "outputs": [],
   "source": [
    "from keras.models import load_model"
   ]
  },
  {
   "cell_type": "code",
   "execution_count": 26,
   "metadata": {},
   "outputs": [],
   "source": [
    "model=load_model('age.h5')"
   ]
  },
  {
   "cell_type": "code",
   "execution_count": 27,
   "metadata": {},
   "outputs": [],
   "source": [
    "import numpy as np"
   ]
  },
  {
   "cell_type": "code",
   "execution_count": 144,
   "metadata": {},
   "outputs": [],
   "source": [
    "from tensorflow.keras.preprocessing import image\n",
    "test_image=image.load_img('42.jpg',target_size=(200,200))"
   ]
  },
  {
   "cell_type": "code",
   "execution_count": 145,
   "metadata": {},
   "outputs": [
    {
     "data": {
      "image/png": "[encoded data removed]",
      "text/plain": [
       "<Figure size 432x288 with 1 Axes>"
      ]
     },
     "metadata": {
      "needs_background": "light"
     },
     "output_type": "display_data"
    }
   ],
   "source": [
    "import matplotlib.pyplot as plt\n",
    "img = plt.imshow(test_image)"
   ]
  },
  {
   "cell_type": "code",
   "execution_count": 146,
   "metadata": {},
   "outputs": [],
   "source": [
    "test_image=image.img_to_array(test_image)"
   ]
  },
  {
   "cell_type": "code",
   "execution_count": 147,
   "metadata": {},
   "outputs": [],
   "source": [
    "test_image=np.expand_dims(test_image,axis=0)"
   ]
  },
  {
   "cell_type": "code",
   "execution_count": 148,
   "metadata": {},
   "outputs": [],
   "source": [
    "result=model.predict(test_image)"
   ]
  },
  {
   "cell_type": "code",
   "execution_count": 149,
   "metadata": {},
   "outputs": [],
   "source": [
    "prediction = result[0]"
   ]
  },
  {
   "cell_type": "code",
   "execution_count": 150,
   "metadata": {},
   "outputs": [],
   "source": [
    "classes=training_set.class_indices"
   ]
  },
  {
   "cell_type": "code",
   "execution_count": 151,
   "metadata": {},
   "outputs": [
    {
     "data": {
      "text/plain": [
       "{'25-30': 0, '42-48': 1, '6-20': 2, '60-98': 3}"
      ]
     },
     "execution_count": 151,
     "metadata": {},
     "output_type": "execute_result"
    }
   ],
   "source": [
    "classes"
   ]
  },
  {
   "cell_type": "code",
   "execution_count": 152,
   "metadata": {},
   "outputs": [],
   "source": [
    "prediction=list(prediction)"
   ]
  },
  {
   "cell_type": "code",
   "execution_count": 153,
   "metadata": {},
   "outputs": [
    {
     "data": {
      "text/plain": [
       "[0.0, 1.0, 0.0, 0.0]"
      ]
     },
     "execution_count": 153,
     "metadata": {},
     "output_type": "execute_result"
    }
   ],
   "source": [
    "prediction"
   ]
  },
  {
   "cell_type": "code",
   "execution_count": 154,
   "metadata": {},
   "outputs": [],
   "source": [
    "classes=['25-30','42-48','6-20','60-98']"
   ]
  },
  {
   "cell_type": "code",
   "execution_count": 155,
   "metadata": {},
   "outputs": [],
   "source": [
    "output=zip(classes,prediction)"
   ]
  },
  {
   "cell_type": "code",
   "execution_count": 156,
   "metadata": {},
   "outputs": [],
   "source": [
    "output=dict(output)"
   ]
  },
  {
   "cell_type": "code",
   "execution_count": 157,
   "metadata": {},
   "outputs": [
    {
     "data": {
      "text/plain": [
       "{'25-30': 0.0, '42-48': 1.0, '6-20': 0.0, '60-98': 0.0}"
      ]
     },
     "execution_count": 157,
     "metadata": {},
     "output_type": "execute_result"
    }
   ],
   "source": [
    "output"
   ]
  },
  {
   "cell_type": "code",
   "execution_count": 158,
   "metadata": {},
   "outputs": [
    {
     "name": "stdout",
     "output_type": "stream",
     "text": [
      "42-48\n"
     ]
    }
   ],
   "source": [
    "if output['25-30']==1.0:\n",
    "    print(\"25-30\")\n",
    "elif output['42-48']==1.0:\n",
    "    print(\"42-48\")\n",
    "elif output['6-20']==1.0:\n",
    "    print(\"6-20\")\n",
    "elif output['60-98']==1.0:\n",
    "    print(\"60-98\")"
   ]
  },
  {
   "cell_type": "code",
   "execution_count": null,
   "metadata": {},
   "outputs": [],
   "source": []
  }
 ],
 "metadata": {
  "kernelspec": {
   "display_name": "Python 3",
   "language": "python",
   "name": "python3"
  },
  "language_info": {
   "codemirror_mode": {
    "name": "ipython",
    "version": 3
   },
   "file_extension": ".py",
   "mimetype": "text/x-python",
   "name": "python",
   "nbconvert_exporter": "python",
   "pygments_lexer": "ipython3",
   "version": "3.7.10"
  }
 },
 "nbformat": 4,
 "nbformat_minor": 2
}
