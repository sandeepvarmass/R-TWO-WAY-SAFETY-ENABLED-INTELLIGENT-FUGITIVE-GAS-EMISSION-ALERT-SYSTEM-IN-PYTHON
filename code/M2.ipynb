{
 "cells": [
  {
   "cell_type": "code",
   "execution_count": 1,
   "metadata": {},
   "outputs": [],
   "source": [
    "# Dl framwork - tensorflow, keras a backend \n",
    "import tensorflow as tf"
   ]
  },
  {
   "cell_type": "code",
   "execution_count": 2,
   "metadata": {},
   "outputs": [],
   "source": [
    "import tensorflow.keras.backend as K"
   ]
  },
  {
   "cell_type": "code",
   "execution_count": 3,
   "metadata": {},
   "outputs": [],
   "source": [
    "from tensorflow.keras.models import Model"
   ]
  },
  {
   "cell_type": "code",
   "execution_count": 4,
   "metadata": {},
   "outputs": [],
   "source": [
    "from tensorflow.keras.models import Sequential"
   ]
  },
  {
   "cell_type": "code",
   "execution_count": 5,
   "metadata": {},
   "outputs": [],
   "source": [
    "from tensorflow.keras.layers import Input"
   ]
  },
  {
   "cell_type": "code",
   "execution_count": 6,
   "metadata": {},
   "outputs": [],
   "source": [
    "from tensorflow.keras.layers import Dense"
   ]
  },
  {
   "cell_type": "code",
   "execution_count": 7,
   "metadata": {},
   "outputs": [],
   "source": [
    "from tensorflow.keras.layers import Flatten"
   ]
  },
  {
   "cell_type": "code",
   "execution_count": 8,
   "metadata": {},
   "outputs": [],
   "source": [
    "from tensorflow.keras.layers import Conv2D"
   ]
  },
  {
   "cell_type": "code",
   "execution_count": 9,
   "metadata": {},
   "outputs": [],
   "source": [
    "from tensorflow.keras.layers import MaxPooling2D"
   ]
  },
  {
   "cell_type": "code",
   "execution_count": 10,
   "metadata": {},
   "outputs": [],
   "source": [
    "from tensorflow.keras.layers import Dropout"
   ]
  },
  {
   "cell_type": "code",
   "execution_count": 11,
   "metadata": {},
   "outputs": [],
   "source": [
    "from tensorflow.keras.layers import LeakyReLU"
   ]
  },
  {
   "cell_type": "code",
   "execution_count": 12,
   "metadata": {},
   "outputs": [],
   "source": [
    "from tensorflow.keras.layers import Activation"
   ]
  },
  {
   "cell_type": "code",
   "execution_count": 13,
   "metadata": {},
   "outputs": [],
   "source": [
    "from tensorflow.keras.optimizers import Adam"
   ]
  },
  {
   "cell_type": "code",
   "execution_count": 14,
   "metadata": {},
   "outputs": [],
   "source": [
    "from tensorflow.keras.preprocessing.image import ImageDataGenerator"
   ]
  },
  {
   "cell_type": "code",
   "execution_count": 15,
   "metadata": {},
   "outputs": [],
   "source": [
    "from tensorflow.keras.callbacks import ModelCheckpoint"
   ]
  },
  {
   "cell_type": "code",
   "execution_count": 16,
   "metadata": {},
   "outputs": [],
   "source": [
    "from tensorflow.keras.callbacks import ReduceLROnPlateau"
   ]
  },
  {
   "cell_type": "code",
   "execution_count": 17,
   "metadata": {},
   "outputs": [],
   "source": [
    "from tensorflow.keras.callbacks import EarlyStopping"
   ]
  },
  {
   "cell_type": "code",
   "execution_count": 18,
   "metadata": {},
   "outputs": [],
   "source": [
    "import warnings\n",
    "warnings.filterwarnings('ignore')"
   ]
  },
  {
   "cell_type": "code",
   "execution_count": 19,
   "metadata": {},
   "outputs": [
    {
     "name": "stdout",
     "output_type": "stream",
     "text": [
      "Model: \"sequential\"\n",
      "_________________________________________________________________\n",
      "Layer (type)                 Output Shape              Param #   \n",
      "=================================================================\n",
      "conv2d (Conv2D)              (None, 48, 48, 96)        34944     \n",
      "_________________________________________________________________\n",
      "activation (Activation)      (None, 48, 48, 96)        0         \n",
      "_________________________________________________________________\n",
      "max_pooling2d (MaxPooling2D) (None, 24, 24, 96)        0         \n",
      "_________________________________________________________________\n",
      "conv2d_1 (Conv2D)            (None, 22, 22, 384)       332160    \n",
      "_________________________________________________________________\n",
      "activation_1 (Activation)    (None, 22, 22, 384)       0         \n",
      "_________________________________________________________________\n",
      "conv2d_2 (Conv2D)            (None, 20, 20, 256)       884992    \n",
      "_________________________________________________________________\n",
      "activation_2 (Activation)    (None, 20, 20, 256)       0         \n",
      "_________________________________________________________________\n",
      "max_pooling2d_1 (MaxPooling2 (None, 10, 10, 256)       0         \n",
      "_________________________________________________________________\n",
      "flatten (Flatten)            (None, 25600)             0         \n",
      "_________________________________________________________________\n",
      "dense (Dense)                (None, 4096)              104861696 \n",
      "_________________________________________________________________\n",
      "activation_3 (Activation)    (None, 4096)              0         \n",
      "_________________________________________________________________\n",
      "dropout (Dropout)            (None, 4096)              0         \n",
      "_________________________________________________________________\n",
      "dense_1 (Dense)              (None, 4096)              16781312  \n",
      "_________________________________________________________________\n",
      "activation_4 (Activation)    (None, 4096)              0         \n",
      "_________________________________________________________________\n",
      "dropout_1 (Dropout)          (None, 4096)              0         \n",
      "_________________________________________________________________\n",
      "dense_2 (Dense)              (None, 1000)              4097000   \n",
      "_________________________________________________________________\n",
      "activation_5 (Activation)    (None, 1000)              0         \n",
      "_________________________________________________________________\n",
      "dropout_2 (Dropout)          (None, 1000)              0         \n",
      "_________________________________________________________________\n",
      "dense_3 (Dense)              (None, 4)                 4004      \n",
      "_________________________________________________________________\n",
      "activation_6 (Activation)    (None, 4)                 0         \n",
      "=================================================================\n",
      "Total params: 126,996,108\n",
      "Trainable params: 126,996,108\n",
      "Non-trainable params: 0\n",
      "_________________________________________________________________\n"
     ]
    }
   ],
   "source": [
    "model = Sequential()\n",
    "# 1st Convolutional Layer\n",
    "model.add(Conv2D(filters=96, input_shape=(200,200,3), kernel_size=(11,11), strides=(4,4), padding='valid'))\n",
    "model.add(Activation('relu'))\n",
    "# Max Pooling\n",
    "model.add(MaxPooling2D(pool_size=(2,2), strides=(2,2), padding='valid'))\n",
    "# 4th Convolutional Layer\n",
    "model.add(Conv2D(filters=384, kernel_size=(3,3), strides=(1,1), padding='valid'))\n",
    "model.add(Activation('relu'))\n",
    "# 5th Convolutional Layer\n",
    "model.add(Conv2D(filters=256, kernel_size=(3,3), strides=(1,1), padding='valid'))\n",
    "model.add(Activation('relu'))\n",
    "# Max Pooling\n",
    "model.add(MaxPooling2D(pool_size=(2,2), strides=(2,2), padding='valid'))\n",
    "# Passing it to a Fully Connected layer\n",
    "model.add(Flatten())\n",
    "# 1st Fully Connected Layer\n",
    "model.add(Dense(4096, input_shape=(200*200*3,)))\n",
    "model.add(Activation('relu'))\n",
    "# Add Dropout to prevent overfitting\n",
    "model.add(Dropout(0.4))\n",
    "# 2nd Fully Connected Layer\n",
    "model.add(Dense(4096))\n",
    "model.add(Activation('relu'))\n",
    "# Add Dropout\n",
    "model.add(Dropout(0.4))\n",
    "# 3rd Fully Connected Layer\n",
    "model.add(Dense(1000))\n",
    "model.add(Activation('relu'))\n",
    "# Add Dropout\n",
    "model.add(Dropout(0.4))\n",
    "# Output Layer\n",
    "model.add(Dense(4))\n",
    "model.add(Activation('softmax'))\n",
    "model.summary()\n",
    "\n",
    "# Compile the model\n",
    "model.compile(loss = 'categorical_crossentropy', optimizer='Adadelta', metrics=['accuracy'])"
   ]
  },
  {
   "cell_type": "code",
   "execution_count": 20,
   "metadata": {},
   "outputs": [],
   "source": [
    "train_datagen=ImageDataGenerator(rescale=1./128,shear_range=0.2,zoom_range=0.2,horizontal_flip=True)\n",
    "test_datagen=ImageDataGenerator(rescale=1./128)"
   ]
  },
  {
   "cell_type": "code",
   "execution_count": 22,
   "metadata": {},
   "outputs": [
    {
     "name": "stdout",
     "output_type": "stream",
     "text": [
      "Found 2300 images belonging to 4 classes.\n",
      "Found 427 images belonging to 4 classes.\n"
     ]
    }
   ],
   "source": [
    "training_set=train_datagen.flow_from_directory('Dataset/train',target_size=(200,200),batch_size=32,class_mode='categorical')\n",
    "test_set=test_datagen.flow_from_directory('Dataset/test',target_size=(200,200),batch_size=32,class_mode='categorical')"
   ]
  },
  {
   "cell_type": "code",
   "execution_count": 24,
   "metadata": {},
   "outputs": [],
   "source": [
    "img_dims = 150\n",
    "epochs = 20\n",
    "batch_size = 32"
   ]
  },
  {
   "cell_type": "code",
   "execution_count": 25,
   "metadata": {},
   "outputs": [
    {
     "name": "stdout",
     "output_type": "stream",
     "text": [
      "Epoch 1/20\n",
      "71/71 [==============================] - 142s 2s/step - loss: 1.3843 - accuracy: 0.2703 - val_loss: 1.3835 - val_accuracy: 0.2284\n",
      "Epoch 2/20\n",
      "71/71 [==============================] - 141s 2s/step - loss: 1.3864 - accuracy: 0.2756 - val_loss: 1.3819 - val_accuracy: 0.2260\n",
      "Epoch 3/20\n",
      "71/71 [==============================] - 139s 2s/step - loss: 1.3813 - accuracy: 0.2862 - val_loss: 1.3795 - val_accuracy: 0.2284\n",
      "Epoch 4/20\n",
      "71/71 [==============================] - 136s 2s/step - loss: 1.3807 - accuracy: 0.2897 - val_loss: 1.3784 - val_accuracy: 0.2260\n",
      "Epoch 5/20\n",
      "71/71 [==============================] - 135s 2s/step - loss: 1.3801 - accuracy: 0.2751 - val_loss: 1.3749 - val_accuracy: 0.2356\n",
      "Epoch 6/20\n",
      "71/71 [==============================] - 142s 2s/step - loss: 1.3789 - accuracy: 0.2813 - val_loss: 1.3745 - val_accuracy: 0.2308\n",
      "Epoch 7/20\n",
      "71/71 [==============================] - 140s 2s/step - loss: 1.3788 - accuracy: 0.2795 - val_loss: 1.3735 - val_accuracy: 0.2284\n",
      "Epoch 8/20\n",
      "71/71 [==============================] - 138s 2s/step - loss: 1.3782 - accuracy: 0.2888 - val_loss: 1.3710 - val_accuracy: 0.2284\n",
      "Epoch 9/20\n",
      "71/71 [==============================] - 141s 2s/step - loss: 1.3766 - accuracy: 0.2888 - val_loss: 1.3705 - val_accuracy: 0.2308\n",
      "Epoch 10/20\n",
      "71/71 [==============================] - 140s 2s/step - loss: 1.3754 - accuracy: 0.2853 - val_loss: 1.3686 - val_accuracy: 0.2308\n",
      "Epoch 11/20\n",
      "71/71 [==============================] - 139s 2s/step - loss: 1.3741 - accuracy: 0.2844 - val_loss: 1.3665 - val_accuracy: 0.2356\n",
      "Epoch 12/20\n",
      "71/71 [==============================] - 143s 2s/step - loss: 1.3727 - accuracy: 0.2963 - val_loss: 1.3649 - val_accuracy: 0.2404\n",
      "Epoch 13/20\n",
      "71/71 [==============================] - 156s 2s/step - loss: 1.3752 - accuracy: 0.2892 - val_loss: 1.3640 - val_accuracy: 0.2404\n",
      "Epoch 14/20\n",
      "71/71 [==============================] - 147s 2s/step - loss: 1.3710 - accuracy: 0.3086 - val_loss: 1.3642 - val_accuracy: 0.2308\n",
      "Epoch 15/20\n",
      "71/71 [==============================] - 139s 2s/step - loss: 1.3710 - accuracy: 0.2931 - val_loss: 1.3601 - val_accuracy: 0.2548\n",
      "Epoch 16/20\n",
      "71/71 [==============================] - 140s 2s/step - loss: 1.3750 - accuracy: 0.2910 - val_loss: 1.3609 - val_accuracy: 0.2548\n",
      "Epoch 17/20\n",
      "71/71 [==============================] - 142s 2s/step - loss: 1.3694 - accuracy: 0.2976 - val_loss: 1.3587 - val_accuracy: 0.2572\n",
      "Epoch 18/20\n",
      "71/71 [==============================] - 144s 2s/step - loss: 1.3720 - accuracy: 0.2897 - val_loss: 1.3592 - val_accuracy: 0.2524\n",
      "Epoch 19/20\n",
      "71/71 [==============================] - 140s 2s/step - loss: 1.3700 - accuracy: 0.3011 - val_loss: 1.3566 - val_accuracy: 0.2837\n",
      "Epoch 20/20\n",
      "71/71 [==============================] - 143s 2s/step - loss: 1.3668 - accuracy: 0.3060 - val_loss: 1.3527 - val_accuracy: 0.2957\n"
     ]
    }
   ],
   "source": [
    "#### Fitting the model\n",
    "history = model.fit(\n",
    "           training_set, steps_per_epoch=training_set.samples // batch_size, \n",
    "           epochs=epochs, \n",
    "           validation_data=test_set,validation_steps=test_set.samples // batch_size)"
   ]
  },
  {
   "cell_type": "code",
   "execution_count": 26,
   "metadata": {},
   "outputs": [],
   "source": [
    "import matplotlib.pyplot as plt"
   ]
  },
  {
   "cell_type": "code",
   "execution_count": 27,
   "metadata": {},
   "outputs": [],
   "source": [
    "def graph():\n",
    "    #Plot training & validation accuracy values\n",
    "    plt.plot(history.history['accuracy'])\n",
    "    plt.plot(history.history['val_accuracy'])\n",
    "    plt.title('Model accuracy')\n",
    "    plt.ylabel('Accuracy')\n",
    "    plt.xlabel('Epoch')\n",
    "    plt.legend(['Train', 'Test'], loc='upper left')\n",
    "    plt.show()\n",
    "\n",
    "    # Plot training & validation loss values\n",
    "    plt.plot(history.history['loss'])\n",
    "    plt.plot(history.history['val_loss'])\n",
    "    plt.title('Model loss')\n",
    "    plt.ylabel('Loss')\n",
    "    plt.xlabel('Epoch')\n",
    "    plt.legend(['Train', 'Test'], loc='upper left')\n",
    "    plt.show()"
   ]
  },
  {
   "cell_type": "code",
   "execution_count": 28,
   "metadata": {},
   "outputs": [
    {
     "data": {
      "image/png": "[encoded data removed]",
      "text/plain": [
       "<Figure size 432x288 with 1 Axes>"
      ]
     },
     "metadata": {
      "needs_background": "light"
     },
     "output_type": "display_data"
    },
    {
     "data": {
      "image/png": "[encoded data removed]",
      "text/plain": [
       "<Figure size 432x288 with 1 Axes>"
      ]
     },
     "metadata": {
      "needs_background": "light"
     },
     "output_type": "display_data"
    }
   ],
   "source": [
    "graph()"
   ]
  },
  {
   "cell_type": "code",
   "execution_count": 29,
   "metadata": {},
   "outputs": [
    {
     "name": "stdout",
     "output_type": "stream",
     "text": [
      "[INFO] Calculating model accuracy\n",
      "14/14 [==============================] - 4s 293ms/step - loss: 1.3537 - accuracy: 0.2974\n",
      "Test Accuracy: 29.742389917373657\n"
     ]
    }
   ],
   "source": [
    "print(\"[INFO] Calculating model accuracy\")\n",
    "scores = model.evaluate(test_set)\n",
    "print(f\"Test Accuracy: {scores[1]*100}\")"
   ]
  },
  {
   "cell_type": "code",
   "execution_count": null,
   "metadata": {},
   "outputs": [],
   "source": []
  }
 ],
 "metadata": {
  "kernelspec": {
   "display_name": "Python 3",
   "language": "python",
   "name": "python3"
  },
  "language_info": {
   "codemirror_mode": {
    "name": "ipython",
    "version": 3
   },
   "file_extension": ".py",
   "mimetype": "text/x-python",
   "name": "python",
   "nbconvert_exporter": "python",
   "pygments_lexer": "ipython3",
   "version": "3.7.10"
  }
 },
 "nbformat": 4,
 "nbformat_minor": 4
}
